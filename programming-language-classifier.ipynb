{
 "cells": [
  {
   "cell_type": "code",
   "execution_count": 3,
   "metadata": {
    "collapsed": true
   },
   "outputs": [],
   "source": [
    "import glob\n",
    "from sklearn.feature_extraction.text import CountVectorizer\n",
    "from sklearn.feature_extraction.text import TfidfTransformer\n",
    "from sklearn.cross_validation import train_test_split\n",
    "from sklearn.naive_bayes import MultinomialNB\n",
    "from sklearn.pipeline import Pipeline"
   ]
  },
  {
   "cell_type": "code",
   "execution_count": 4,
   "metadata": {
    "collapsed": true
   },
   "outputs": [],
   "source": [
    "def read_files(directory):\n",
    "    files = glob.glob('benchmarksgame/*/*/{}'.format(directory))\n",
    "    texts = []\n",
    "    for file in files:\n",
    "        with open(file, encoding='latin_1') as f:\n",
    "            texts.append(f.read())\n",
    "    return texts"
   ]
  },
  {
   "cell_type": "code",
   "execution_count": 13,
   "metadata": {
    "collapsed": false
   },
   "outputs": [],
   "source": [
    "all_files = read_files('*.python3' and '*.gcc' and '*.c' and '*.hack' and '*.php' and '*.sbcl' and '*.jruby' and '*.yarv' and '*.racket' and '*.scala' and '*.sc' and '*.csharp' and '*.clojure' and '*.java' and '*.javascript' and '*.ocaml' and '*.perl')\n",
    "python = read_files('*.python3')\n",
    "python_y = ['Python']* len(python)\n",
    "c = read_files('*.gcc' or '*.c')\n",
    "common_lisp = read_files('*.sbcl')\n",
    "php = read_files('*.hack' or '*.php')\n",
    "ruby = read_files('*.jruby' or '*.yarv')\n",
    "scheme = read_files('*.racket')\n",
    "schala = read_files('*.scala' or '*.sc')\n",
    "csharp = read_files('*.csharp')\n",
    "clojure = read_files('*.clojure')\n",
    "java = read_files('*.java')\n",
    "javascript = read_files('*.javascript')\n",
    "ocaml = read_files('*.ocaml')\n",
    "perl = read_files('*.perl')\n",
    "# Haskell"
   ]
  },
  {
   "cell_type": "code",
   "execution_count": 14,
   "metadata": {
    "collapsed": false
   },
   "outputs": [],
   "source": [
    "pipeline = Pipeline([\n",
    "    ('vec', CountVectorizer()),\n",
    "    ('trans', TfidfTransformer()),\n",
    "    ('clf', MultinomialNB()),\n",
    "    ])"
   ]
  },
  {
   "cell_type": "code",
   "execution_count": 16,
   "metadata": {
    "collapsed": false
   },
   "outputs": [
    {
     "data": {
      "text/plain": [
       "34"
      ]
     },
     "execution_count": 16,
     "metadata": {},
     "output_type": "execute_result"
    }
   ],
   "source": [
    "len(all_files)\n",
    "#len(ruby)\n",
    "#len(python)"
   ]
  },
  {
   "cell_type": "code",
   "execution_count": 58,
   "metadata": {
    "collapsed": false
   },
   "outputs": [],
   "source": [
    "python_train_x, python_test_x, python_train_y, python_test_y = train_test_split(python, python_y, train_size=0.6, test_size=0.4, random_state=1)"
   ]
  },
  {
   "cell_type": "code",
   "execution_count": 60,
   "metadata": {
    "collapsed": false
   },
   "outputs": [
    {
     "name": "stderr",
     "output_type": "stream",
     "text": [
      "/Users/Envy/Documents/TIY/week4/programming-language-classifier/.direnv/python-3.5.2/lib/python3.5/site-packages/sklearn/naive_bayes.py:420: RuntimeWarning: divide by zero encountered in log\n",
      "  self.class_log_prior_ = (np.log(self.class_count_)\n"
     ]
    }
   ],
   "source": [
    "pipeline.fit(python_train_x , python_train_y)\n",
    "pass"
   ]
  },
  {
   "cell_type": "code",
   "execution_count": 61,
   "metadata": {
    "collapsed": false
   },
   "outputs": [
    {
     "data": {
      "text/plain": [
       "1.0"
      ]
     },
     "execution_count": 61,
     "metadata": {},
     "output_type": "execute_result"
    }
   ],
   "source": [
    "pipeline.score(python_test_x, python_test_y)"
   ]
  },
  {
   "cell_type": "code",
   "execution_count": null,
   "metadata": {
    "collapsed": false
   },
   "outputs": [],
   "source": []
  },
  {
   "cell_type": "code",
   "execution_count": null,
   "metadata": {
    "collapsed": true
   },
   "outputs": [],
   "source": []
  }
 ],
 "metadata": {
  "kernelspec": {
   "display_name": "Python 3",
   "language": "python",
   "name": "python3"
  }
 },
 "nbformat": 4,
 "nbformat_minor": 0
}
